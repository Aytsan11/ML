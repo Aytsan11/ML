{
  "nbformat": 4,
  "nbformat_minor": 0,
  "metadata": {
    "colab": {
      "provenance": [],
      "authorship_tag": "ABX9TyM7XdAVQfba6H54PThSmyWi",
      "include_colab_link": true
    },
    "kernelspec": {
      "name": "python3",
      "display_name": "Python 3"
    },
    "language_info": {
      "name": "python"
    }
  },
  "cells": [
    {
      "cell_type": "markdown",
      "metadata": {
        "id": "view-in-github",
        "colab_type": "text"
      },
      "source": [
        "<a href=\"https://colab.research.google.com/github/Aytsan11/ML/blob/main/Parsing.ipynb\" target=\"_parent\"><img src=\"https://colab.research.google.com/assets/colab-badge.svg\" alt=\"Open In Colab\"/></a>"
      ]
    },
    {
      "cell_type": "code",
      "execution_count": 1,
      "metadata": {
        "colab": {
          "base_uri": "https://localhost:8080/"
        },
        "id": "pIpvhFfG5t4-",
        "outputId": "f9029f09-be99-4d9d-dfc9-6bf99b0aab10"
      },
      "outputs": [
        {
          "output_type": "stream",
          "name": "stdout",
          "text": [
            "Collecting pymorphy3\n",
            "  Downloading pymorphy3-2.0.3-py3-none-any.whl.metadata (1.9 kB)\n",
            "Collecting dawg2-python>=0.8.0 (from pymorphy3)\n",
            "  Downloading dawg2_python-0.9.0-py3-none-any.whl.metadata (7.5 kB)\n",
            "Collecting pymorphy3-dicts-ru (from pymorphy3)\n",
            "  Downloading pymorphy3_dicts_ru-2.4.417150.4580142-py2.py3-none-any.whl.metadata (2.0 kB)\n",
            "Downloading pymorphy3-2.0.3-py3-none-any.whl (53 kB)\n",
            "\u001b[2K   \u001b[90m━━━━━━━━━━━━━━━━━━━━━━━━━━━━━━━━━━━━━━━━\u001b[0m \u001b[32m53.8/53.8 kB\u001b[0m \u001b[31m3.1 MB/s\u001b[0m eta \u001b[36m0:00:00\u001b[0m\n",
            "\u001b[?25hDownloading dawg2_python-0.9.0-py3-none-any.whl (9.3 kB)\n",
            "Downloading pymorphy3_dicts_ru-2.4.417150.4580142-py2.py3-none-any.whl (8.4 MB)\n",
            "\u001b[2K   \u001b[90m━━━━━━━━━━━━━━━━━━━━━━━━━━━━━━━━━━━━━━━━\u001b[0m \u001b[32m8.4/8.4 MB\u001b[0m \u001b[31m52.2 MB/s\u001b[0m eta \u001b[36m0:00:00\u001b[0m\n",
            "\u001b[?25hInstalling collected packages: pymorphy3-dicts-ru, dawg2-python, pymorphy3\n",
            "Successfully installed dawg2-python-0.9.0 pymorphy3-2.0.3 pymorphy3-dicts-ru-2.4.417150.4580142\n"
          ]
        }
      ],
      "source": [
        "! pip install  pymorphy3"
      ]
    },
    {
      "cell_type": "code",
      "source": [
        "import numpy as np\n",
        "import pandas as pd\n",
        "import re\n",
        "import nltk\n",
        "nltk.download('stopwords')\n",
        "from nltk.corpus import stopwords\n",
        "import pymorphy3\n",
        "import json"
      ],
      "metadata": {
        "colab": {
          "base_uri": "https://localhost:8080/"
        },
        "id": "68ZsefgU5yFE",
        "outputId": "e8f69ac7-904f-4194-ecd7-391da996ed15"
      },
      "execution_count": 2,
      "outputs": [
        {
          "output_type": "stream",
          "name": "stderr",
          "text": [
            "[nltk_data] Downloading package stopwords to /root/nltk_data...\n",
            "[nltk_data]   Unzipping corpora/stopwords.zip.\n"
          ]
        }
      ]
    },
    {
      "cell_type": "code",
      "source": [
        "from nltk.corpus import stopwords\n",
        "\n",
        "# Инициализируем лемматизатор и список стоп-слов\n",
        "morph = pymorphy3.MorphAnalyzer()\n",
        "russian_stopwords = set(stopwords.words('russian'))\n",
        "\n",
        "# Чтение данных из txt файла\n",
        "with open('/content/anek.txt', 'r', encoding='utf-8') as f:\n",
        "    content = f.read()\n",
        "\n",
        "# Разбиваем текст на шутки по разделителю ***\n",
        "jokes = [joke.strip() for joke in content.split('***') if joke.strip()]\n",
        "\n",
        "def lemmatize_text(text):\n",
        "    words = text.split()\n",
        "    lemmas = []\n",
        "    for word in words:\n",
        "        p = morph.parse(word)[0]\n",
        "        lemma = p.normal_form\n",
        "        # Оставляем только алфавитные слова, не являющиеся стоп-словами\n",
        "        if lemma.isalpha() and lemma not in russian_stopwords:\n",
        "            lemmas.append(lemma)\n",
        "    return lemmas\n",
        "\n",
        "# Обрабатываем все шутки\n",
        "processed_jokes = []\n",
        "for joke in jokes:\n",
        "    lemmas = lemmatize_text(joke)\n",
        "    processed_jokes.append(lemmas)\n",
        "\n",
        "# Пример вывода: лемматизированные слова из первых трёх шуток\n",
        "for i, lemmas in enumerate(processed_jokes[:3], 1):\n",
        "    print(f\"Шутка {i}: {lemmas}\")"
      ],
      "metadata": {
        "id": "_-bwr1uP57P4",
        "outputId": "98a617fb-88e0-49e1-cd2e-e4083e4fd075",
        "colab": {
          "base_uri": "https://localhost:8080/"
        }
      },
      "execution_count": 3,
      "outputs": [
        {
          "output_type": "stream",
          "name": "stdout",
          "text": [
            "Шутка 1: ['лошадь', 'мочь', 'смотреть', 'всё', 'твой', 'батя']\n",
            "Шутка 2: ['никакой']\n",
            "Шутка 3: ['вести', 'лапать']\n"
          ]
        }
      ]
    },
    {
      "cell_type": "code",
      "source": [
        "from sklearn.feature_extraction.text import TfidfVectorizer\n",
        "\n",
        "processed_jokes_text = [' '.join(lemmas) for lemmas in processed_jokes]\n",
        "vectorizer = TfidfVectorizer()\n",
        "X = vectorizer.fit_transform(processed_jokes_text)"
      ],
      "metadata": {
        "id": "ApQCJ0btARCf"
      },
      "execution_count": 4,
      "outputs": []
    },
    {
      "cell_type": "code",
      "source": [
        "import numpy as np\n",
        "import pandas as pd\n",
        "import matplotlib.pyplot as plt\n",
        "from sklearn.cluster import DBSCAN\n",
        "from sklearn.metrics import silhouette_score"
      ],
      "metadata": {
        "id": "XRQhPsSaAWLJ"
      },
      "execution_count": 5,
      "outputs": []
    },
    {
      "cell_type": "code",
      "source": [
        "# Параметры DBSCAN могут требовать подбора\n",
        "dbscan = DBSCAN(eps=0.75, min_samples=60, metric='cosine')\n",
        "labels = dbscan.fit_predict(X)"
      ],
      "metadata": {
        "id": "h5M24TlkATmJ"
      },
      "execution_count": 29,
      "outputs": []
    },
    {
      "cell_type": "code",
      "source": [
        "import numpy as np\n",
        "\n",
        "unique_labels = np.unique(labels)\n",
        "print(unique_labels)"
      ],
      "metadata": {
        "id": "KhysJ0ZzJKo7",
        "outputId": "4b84c36f-48e7-483c-feec-3b6f37201978",
        "colab": {
          "base_uri": "https://localhost:8080/"
        }
      },
      "execution_count": 30,
      "outputs": [
        {
          "output_type": "stream",
          "name": "stdout",
          "text": [
            "[-1  0  1  2  3  4]\n"
          ]
        }
      ]
    },
    {
      "cell_type": "code",
      "source": [
        "# Создаем DataFrame с заголовками и метками кластеров\n",
        "df = pd.DataFrame({'joke': processed_jokes_text, 'class': labels})\n",
        "\n",
        "# Выводим количество кластеров\n",
        "unique_labels = set(labels)\n",
        "n_clusters = len(unique_labels) - (1 if -1 in labels else 0)\n",
        "print(f'Количество кластеров: {n_clusters}')\n",
        "\n",
        "# Анализируем кластеры\n",
        "for label in unique_labels:\n",
        "    if label == -1:\n",
        "        continue  # Пропускаем шум\n",
        "    cluster_titles = df[df['class'] == label]['joke'].head(3)\n",
        "    print(f'\\nКластер {label}:')\n",
        "    for title in cluster_titles:\n",
        "        print(f'- {title}')"
      ],
      "metadata": {
        "colab": {
          "base_uri": "https://localhost:8080/"
        },
        "id": "2M2cPwutAdzS",
        "outputId": "619905e3-9e52-4526-d20c-bc9386b09cfb"
      },
      "execution_count": 31,
      "outputs": [
        {
          "output_type": "stream",
          "name": "stdout",
          "text": [
            "Количество кластеров: 5\n",
            "\n",
            "Кластер 0:\n",
            "- сосаться ленин ленин горький\n",
            "- штирлиц почувствовать подумать штирлиц\n",
            "- дверь постучать удар десять тысяча подумать брюс\n",
            "\n",
            "Кластер 1:\n",
            "- называться отношение грубый водитель\n",
            "- звать который\n",
            "- называться обучать гей порно самый\n",
            "\n",
            "Кластер 2:\n",
            "- почему шутить это ещё жопа\n",
            "- почему шутить это ещё\n",
            "- муж непосредственный руководитель это свой плюс переспать это минус переспать это\n",
            "\n",
            "Кластер 3:\n",
            "- мужик пристать мужик разозлиться говорить твой мать вчера\n",
            "- купить кружка знать чай\n",
            "- пиво купить пить пенный\n",
            "\n",
            "Кластер 4:\n",
            "- забыть первый слово сын всё\n",
            "- отец случайно проглотить папка\n",
            "- приходить старший дочь отец младший кричать свой отец сын свой комната отец камень душа спасть домой мужик\n"
          ]
        }
      ]
    },
    {
      "cell_type": "code",
      "source": [
        "df_1 = pd.DataFrame({'joke': jokes, 'class': labels})"
      ],
      "metadata": {
        "id": "hB-9gJgFJtzI"
      },
      "execution_count": 32,
      "outputs": []
    },
    {
      "cell_type": "code",
      "source": [
        "df_1"
      ],
      "metadata": {
        "id": "ao7qjB_wJ8SV",
        "outputId": "41209d4e-4e16-4ecf-ac06-24c6d02c2b2b",
        "colab": {
          "base_uri": "https://localhost:8080/",
          "height": 424
        }
      },
      "execution_count": 33,
      "outputs": [
        {
          "output_type": "execute_result",
          "data": {
            "text/plain": [
              "                                                   joke  class\n",
              "0     Лошадь может смотреть на все 360 градусов. \\nА...     -1\n",
              "1     — Дорогая, я... \\n— Нет никаких \"я\" или \"ты\". ...     -1\n",
              "2     — Ты вел себя, как джентельмен. Спасибо, что н...     -1\n",
              "3     В казарму новобранцев заходит лейтенант: \\n— К...     -1\n",
              "4     Поручик Ржевский проснулся и обнаружил между з...     -1\n",
              "...                                                 ...    ...\n",
              "8231  Мужик приходит к врачу:\\n— Доктор, помогите, у...     -1\n",
              "8232  Пришел грузин в автосалон машину покупать. Спр...     -1\n",
              "8233  Просыпается поручик Ржевский с бодуна, причем ...     -1\n",
              "8234  Приходит папа-людоед домой, приносит гроб с по...     -1\n",
              "8235  Встречаются русский владелец диснейленда и аме...     -1\n",
              "\n",
              "[8236 rows x 2 columns]"
            ],
            "text/html": [
              "\n",
              "  <div id=\"df-70d6f5db-b0b5-45d2-a191-bcfa139b1075\" class=\"colab-df-container\">\n",
              "    <div>\n",
              "<style scoped>\n",
              "    .dataframe tbody tr th:only-of-type {\n",
              "        vertical-align: middle;\n",
              "    }\n",
              "\n",
              "    .dataframe tbody tr th {\n",
              "        vertical-align: top;\n",
              "    }\n",
              "\n",
              "    .dataframe thead th {\n",
              "        text-align: right;\n",
              "    }\n",
              "</style>\n",
              "<table border=\"1\" class=\"dataframe\">\n",
              "  <thead>\n",
              "    <tr style=\"text-align: right;\">\n",
              "      <th></th>\n",
              "      <th>joke</th>\n",
              "      <th>class</th>\n",
              "    </tr>\n",
              "  </thead>\n",
              "  <tbody>\n",
              "    <tr>\n",
              "      <th>0</th>\n",
              "      <td>Лошадь может смотреть на все 360 градусов. \\nА...</td>\n",
              "      <td>-1</td>\n",
              "    </tr>\n",
              "    <tr>\n",
              "      <th>1</th>\n",
              "      <td>— Дорогая, я... \\n— Нет никаких \"я\" или \"ты\". ...</td>\n",
              "      <td>-1</td>\n",
              "    </tr>\n",
              "    <tr>\n",
              "      <th>2</th>\n",
              "      <td>— Ты вел себя, как джентельмен. Спасибо, что н...</td>\n",
              "      <td>-1</td>\n",
              "    </tr>\n",
              "    <tr>\n",
              "      <th>3</th>\n",
              "      <td>В казарму новобранцев заходит лейтенант: \\n— К...</td>\n",
              "      <td>-1</td>\n",
              "    </tr>\n",
              "    <tr>\n",
              "      <th>4</th>\n",
              "      <td>Поручик Ржевский проснулся и обнаружил между з...</td>\n",
              "      <td>-1</td>\n",
              "    </tr>\n",
              "    <tr>\n",
              "      <th>...</th>\n",
              "      <td>...</td>\n",
              "      <td>...</td>\n",
              "    </tr>\n",
              "    <tr>\n",
              "      <th>8231</th>\n",
              "      <td>Мужик приходит к врачу:\\n— Доктор, помогите, у...</td>\n",
              "      <td>-1</td>\n",
              "    </tr>\n",
              "    <tr>\n",
              "      <th>8232</th>\n",
              "      <td>Пришел грузин в автосалон машину покупать. Спр...</td>\n",
              "      <td>-1</td>\n",
              "    </tr>\n",
              "    <tr>\n",
              "      <th>8233</th>\n",
              "      <td>Просыпается поручик Ржевский с бодуна, причем ...</td>\n",
              "      <td>-1</td>\n",
              "    </tr>\n",
              "    <tr>\n",
              "      <th>8234</th>\n",
              "      <td>Приходит папа-людоед домой, приносит гроб с по...</td>\n",
              "      <td>-1</td>\n",
              "    </tr>\n",
              "    <tr>\n",
              "      <th>8235</th>\n",
              "      <td>Встречаются русский владелец диснейленда и аме...</td>\n",
              "      <td>-1</td>\n",
              "    </tr>\n",
              "  </tbody>\n",
              "</table>\n",
              "<p>8236 rows × 2 columns</p>\n",
              "</div>\n",
              "    <div class=\"colab-df-buttons\">\n",
              "\n",
              "  <div class=\"colab-df-container\">\n",
              "    <button class=\"colab-df-convert\" onclick=\"convertToInteractive('df-70d6f5db-b0b5-45d2-a191-bcfa139b1075')\"\n",
              "            title=\"Convert this dataframe to an interactive table.\"\n",
              "            style=\"display:none;\">\n",
              "\n",
              "  <svg xmlns=\"http://www.w3.org/2000/svg\" height=\"24px\" viewBox=\"0 -960 960 960\">\n",
              "    <path d=\"M120-120v-720h720v720H120Zm60-500h600v-160H180v160Zm220 220h160v-160H400v160Zm0 220h160v-160H400v160ZM180-400h160v-160H180v160Zm440 0h160v-160H620v160ZM180-180h160v-160H180v160Zm440 0h160v-160H620v160Z\"/>\n",
              "  </svg>\n",
              "    </button>\n",
              "\n",
              "  <style>\n",
              "    .colab-df-container {\n",
              "      display:flex;\n",
              "      gap: 12px;\n",
              "    }\n",
              "\n",
              "    .colab-df-convert {\n",
              "      background-color: #E8F0FE;\n",
              "      border: none;\n",
              "      border-radius: 50%;\n",
              "      cursor: pointer;\n",
              "      display: none;\n",
              "      fill: #1967D2;\n",
              "      height: 32px;\n",
              "      padding: 0 0 0 0;\n",
              "      width: 32px;\n",
              "    }\n",
              "\n",
              "    .colab-df-convert:hover {\n",
              "      background-color: #E2EBFA;\n",
              "      box-shadow: 0px 1px 2px rgba(60, 64, 67, 0.3), 0px 1px 3px 1px rgba(60, 64, 67, 0.15);\n",
              "      fill: #174EA6;\n",
              "    }\n",
              "\n",
              "    .colab-df-buttons div {\n",
              "      margin-bottom: 4px;\n",
              "    }\n",
              "\n",
              "    [theme=dark] .colab-df-convert {\n",
              "      background-color: #3B4455;\n",
              "      fill: #D2E3FC;\n",
              "    }\n",
              "\n",
              "    [theme=dark] .colab-df-convert:hover {\n",
              "      background-color: #434B5C;\n",
              "      box-shadow: 0px 1px 3px 1px rgba(0, 0, 0, 0.15);\n",
              "      filter: drop-shadow(0px 1px 2px rgba(0, 0, 0, 0.3));\n",
              "      fill: #FFFFFF;\n",
              "    }\n",
              "  </style>\n",
              "\n",
              "    <script>\n",
              "      const buttonEl =\n",
              "        document.querySelector('#df-70d6f5db-b0b5-45d2-a191-bcfa139b1075 button.colab-df-convert');\n",
              "      buttonEl.style.display =\n",
              "        google.colab.kernel.accessAllowed ? 'block' : 'none';\n",
              "\n",
              "      async function convertToInteractive(key) {\n",
              "        const element = document.querySelector('#df-70d6f5db-b0b5-45d2-a191-bcfa139b1075');\n",
              "        const dataTable =\n",
              "          await google.colab.kernel.invokeFunction('convertToInteractive',\n",
              "                                                    [key], {});\n",
              "        if (!dataTable) return;\n",
              "\n",
              "        const docLinkHtml = 'Like what you see? Visit the ' +\n",
              "          '<a target=\"_blank\" href=https://colab.research.google.com/notebooks/data_table.ipynb>data table notebook</a>'\n",
              "          + ' to learn more about interactive tables.';\n",
              "        element.innerHTML = '';\n",
              "        dataTable['output_type'] = 'display_data';\n",
              "        await google.colab.output.renderOutput(dataTable, element);\n",
              "        const docLink = document.createElement('div');\n",
              "        docLink.innerHTML = docLinkHtml;\n",
              "        element.appendChild(docLink);\n",
              "      }\n",
              "    </script>\n",
              "  </div>\n",
              "\n",
              "\n",
              "    <div id=\"df-18952271-db4e-4c17-81f1-bf7d98448476\">\n",
              "      <button class=\"colab-df-quickchart\" onclick=\"quickchart('df-18952271-db4e-4c17-81f1-bf7d98448476')\"\n",
              "                title=\"Suggest charts\"\n",
              "                style=\"display:none;\">\n",
              "\n",
              "<svg xmlns=\"http://www.w3.org/2000/svg\" height=\"24px\"viewBox=\"0 0 24 24\"\n",
              "     width=\"24px\">\n",
              "    <g>\n",
              "        <path d=\"M19 3H5c-1.1 0-2 .9-2 2v14c0 1.1.9 2 2 2h14c1.1 0 2-.9 2-2V5c0-1.1-.9-2-2-2zM9 17H7v-7h2v7zm4 0h-2V7h2v10zm4 0h-2v-4h2v4z\"/>\n",
              "    </g>\n",
              "</svg>\n",
              "      </button>\n",
              "\n",
              "<style>\n",
              "  .colab-df-quickchart {\n",
              "      --bg-color: #E8F0FE;\n",
              "      --fill-color: #1967D2;\n",
              "      --hover-bg-color: #E2EBFA;\n",
              "      --hover-fill-color: #174EA6;\n",
              "      --disabled-fill-color: #AAA;\n",
              "      --disabled-bg-color: #DDD;\n",
              "  }\n",
              "\n",
              "  [theme=dark] .colab-df-quickchart {\n",
              "      --bg-color: #3B4455;\n",
              "      --fill-color: #D2E3FC;\n",
              "      --hover-bg-color: #434B5C;\n",
              "      --hover-fill-color: #FFFFFF;\n",
              "      --disabled-bg-color: #3B4455;\n",
              "      --disabled-fill-color: #666;\n",
              "  }\n",
              "\n",
              "  .colab-df-quickchart {\n",
              "    background-color: var(--bg-color);\n",
              "    border: none;\n",
              "    border-radius: 50%;\n",
              "    cursor: pointer;\n",
              "    display: none;\n",
              "    fill: var(--fill-color);\n",
              "    height: 32px;\n",
              "    padding: 0;\n",
              "    width: 32px;\n",
              "  }\n",
              "\n",
              "  .colab-df-quickchart:hover {\n",
              "    background-color: var(--hover-bg-color);\n",
              "    box-shadow: 0 1px 2px rgba(60, 64, 67, 0.3), 0 1px 3px 1px rgba(60, 64, 67, 0.15);\n",
              "    fill: var(--button-hover-fill-color);\n",
              "  }\n",
              "\n",
              "  .colab-df-quickchart-complete:disabled,\n",
              "  .colab-df-quickchart-complete:disabled:hover {\n",
              "    background-color: var(--disabled-bg-color);\n",
              "    fill: var(--disabled-fill-color);\n",
              "    box-shadow: none;\n",
              "  }\n",
              "\n",
              "  .colab-df-spinner {\n",
              "    border: 2px solid var(--fill-color);\n",
              "    border-color: transparent;\n",
              "    border-bottom-color: var(--fill-color);\n",
              "    animation:\n",
              "      spin 1s steps(1) infinite;\n",
              "  }\n",
              "\n",
              "  @keyframes spin {\n",
              "    0% {\n",
              "      border-color: transparent;\n",
              "      border-bottom-color: var(--fill-color);\n",
              "      border-left-color: var(--fill-color);\n",
              "    }\n",
              "    20% {\n",
              "      border-color: transparent;\n",
              "      border-left-color: var(--fill-color);\n",
              "      border-top-color: var(--fill-color);\n",
              "    }\n",
              "    30% {\n",
              "      border-color: transparent;\n",
              "      border-left-color: var(--fill-color);\n",
              "      border-top-color: var(--fill-color);\n",
              "      border-right-color: var(--fill-color);\n",
              "    }\n",
              "    40% {\n",
              "      border-color: transparent;\n",
              "      border-right-color: var(--fill-color);\n",
              "      border-top-color: var(--fill-color);\n",
              "    }\n",
              "    60% {\n",
              "      border-color: transparent;\n",
              "      border-right-color: var(--fill-color);\n",
              "    }\n",
              "    80% {\n",
              "      border-color: transparent;\n",
              "      border-right-color: var(--fill-color);\n",
              "      border-bottom-color: var(--fill-color);\n",
              "    }\n",
              "    90% {\n",
              "      border-color: transparent;\n",
              "      border-bottom-color: var(--fill-color);\n",
              "    }\n",
              "  }\n",
              "</style>\n",
              "\n",
              "      <script>\n",
              "        async function quickchart(key) {\n",
              "          const quickchartButtonEl =\n",
              "            document.querySelector('#' + key + ' button');\n",
              "          quickchartButtonEl.disabled = true;  // To prevent multiple clicks.\n",
              "          quickchartButtonEl.classList.add('colab-df-spinner');\n",
              "          try {\n",
              "            const charts = await google.colab.kernel.invokeFunction(\n",
              "                'suggestCharts', [key], {});\n",
              "          } catch (error) {\n",
              "            console.error('Error during call to suggestCharts:', error);\n",
              "          }\n",
              "          quickchartButtonEl.classList.remove('colab-df-spinner');\n",
              "          quickchartButtonEl.classList.add('colab-df-quickchart-complete');\n",
              "        }\n",
              "        (() => {\n",
              "          let quickchartButtonEl =\n",
              "            document.querySelector('#df-18952271-db4e-4c17-81f1-bf7d98448476 button');\n",
              "          quickchartButtonEl.style.display =\n",
              "            google.colab.kernel.accessAllowed ? 'block' : 'none';\n",
              "        })();\n",
              "      </script>\n",
              "    </div>\n",
              "    </div>\n",
              "  </div>\n"
            ],
            "application/vnd.google.colaboratory.intrinsic+json": {
              "type": "dataframe",
              "variable_name": "df_1",
              "summary": "{\n  \"name\": \"df_1\",\n  \"rows\": 8236,\n  \"fields\": [\n    {\n      \"column\": \"joke\",\n      \"properties\": {\n        \"dtype\": \"string\",\n        \"num_unique_values\": 7927,\n        \"samples\": [\n          \"\\u0414\\u043e\\u0440\\u043e\\u0433\\u0430\\u044f, \\u0430 \\u0433\\u043e\\u0432\\u043e\\u0440\\u0438\\u043b \\u043b\\u0438 \\u044f \\u0442\\u0435\\u0431\\u0435, \\u0447\\u0442\\u043e \\u0432 \\u043c\\u043e\\u043b\\u043e\\u0434\\u043e\\u0441\\u0442\\u0438 \\u0431\\u044b\\u043b \\u043e\\u0442\\u0447\\u0430\\u044f\\u043d\\u043d\\u044b\\u043c \\u0434\\u0440\\u0430\\u0447\\u0443\\u043d\\u043e\\u043c?\\n- \\u0414\\u0430, \\u0442\\u0432\\u043e\\u0438 \\u0434\\u0440\\u0443\\u0437\\u044c\\u044f \\u0440\\u0430\\u0441\\u0441\\u043a\\u0430\\u0437\\u044b\\u0432\\u0430\\u043b\\u0438, \\u043a\\u0430\\u043a \\u0442\\u044b \\u0432 \\u043c\\u043e\\u043b\\u043e\\u0434\\u043e\\u0441\\u0442\\u0438 \\u043e\\u0442\\u0447\\u0430\\u044f\\u043d\\u043d\\u043e \\u0434\\u0440\\u043e\\u0447\\u0438\\u043b.\",\n          \"\\u0420\\u0435\\u043a\\u043b\\u0430\\u043c\\u0430 \\u0442\\u0430\\u043c\\u043f\\u043e\\u043d\\u043e\\u0432: \\n \\n\\u0417\\u0430\\u0441\\u0443\\u043d\\u0443\\u043b\\u0430 \\u0421\\u043f\\u0430\\u043d\\u0447 \\u0411\\u043e\\u0431\\u0430 \\n \\n\\u0412\\u044b\\u0442\\u0430\\u0449\\u0438\\u043b\\u0430 \\u043f\\u0430\\u0442\\u0440\\u0438\\u043a\\u0430\",\n          \"\\u0428\\u0442\\u0438\\u0440\\u043b\\u0438\\u0446 \\u043f\\u043e\\u0447\\u0443\\u0432\\u0441\\u0442\\u0432\\u043e\\u0432\\u0430\\u043b \\u0441\\u043f\\u0438\\u043d\\u043e\\u0439, \\u0447\\u0442\\u043e \\u043f\\u0440\\u0438\\u0431\\u043b\\u0438\\u0436\\u0430\\u0435\\u0442\\u0441\\u044f \\u0441\\u043c\\u0435\\u0440\\u0442\\u043e\\u043d\\u043e\\u0441\\u043d\\u044b\\u0439 \\u0441\\u0432\\u0438\\u043d\\u0435\\u0446. \\u041e\\u043d \\u0443\\u0441\\u043f\\u0435\\u043b \\u043e\\u0442\\u043f\\u0440\\u044b\\u0433\\u043d\\u0443\\u0442\\u044c, \\u0441\\u043c\\u0435\\u0440\\u0442\\u043e\\u043d\\u043e\\u0441\\u043d\\u044b\\u0439 \\u0441\\u0432\\u0438\\u043d\\u0435\\u0446 \\u0441\\u043e \\u0441\\u0432\\u0438\\u0441\\u0442\\u043e\\u043c \\u0438 \\u0445\\u0440\\u044e\\u043a\\u0430\\u043d\\u044c\\u0435\\u043c \\u043f\\u0440\\u043e\\u043c\\u0447\\u0430\\u043b\\u0441\\u044f \\u043c\\u0438\\u043c\\u043e.\"\n        ],\n        \"semantic_type\": \"\",\n        \"description\": \"\"\n      }\n    },\n    {\n      \"column\": \"class\",\n      \"properties\": {\n        \"dtype\": \"number\",\n        \"std\": 0,\n        \"min\": -1,\n        \"max\": 4,\n        \"num_unique_values\": 6,\n        \"samples\": [\n          -1,\n          0,\n          4\n        ],\n        \"semantic_type\": \"\",\n        \"description\": \"\"\n      }\n    }\n  ]\n}"
            }
          },
          "metadata": {},
          "execution_count": 33
        }
      ]
    },
    {
      "cell_type": "code",
      "source": [
        "df_1['class'].value_counts()"
      ],
      "metadata": {
        "id": "klnyaA3JxV18",
        "outputId": "4a6dcaea-9ffb-4ac1-8331-0f1eafd88cb4",
        "colab": {
          "base_uri": "https://localhost:8080/",
          "height": 304
        }
      },
      "execution_count": 34,
      "outputs": [
        {
          "output_type": "execute_result",
          "data": {
            "text/plain": [
              "class\n",
              "-1    7430\n",
              " 1     268\n",
              " 0     181\n",
              " 3     175\n",
              " 4     101\n",
              " 2      81\n",
              "Name: count, dtype: int64"
            ],
            "text/html": [
              "<div>\n",
              "<style scoped>\n",
              "    .dataframe tbody tr th:only-of-type {\n",
              "        vertical-align: middle;\n",
              "    }\n",
              "\n",
              "    .dataframe tbody tr th {\n",
              "        vertical-align: top;\n",
              "    }\n",
              "\n",
              "    .dataframe thead th {\n",
              "        text-align: right;\n",
              "    }\n",
              "</style>\n",
              "<table border=\"1\" class=\"dataframe\">\n",
              "  <thead>\n",
              "    <tr style=\"text-align: right;\">\n",
              "      <th></th>\n",
              "      <th>count</th>\n",
              "    </tr>\n",
              "    <tr>\n",
              "      <th>class</th>\n",
              "      <th></th>\n",
              "    </tr>\n",
              "  </thead>\n",
              "  <tbody>\n",
              "    <tr>\n",
              "      <th>-1</th>\n",
              "      <td>7430</td>\n",
              "    </tr>\n",
              "    <tr>\n",
              "      <th>1</th>\n",
              "      <td>268</td>\n",
              "    </tr>\n",
              "    <tr>\n",
              "      <th>0</th>\n",
              "      <td>181</td>\n",
              "    </tr>\n",
              "    <tr>\n",
              "      <th>3</th>\n",
              "      <td>175</td>\n",
              "    </tr>\n",
              "    <tr>\n",
              "      <th>4</th>\n",
              "      <td>101</td>\n",
              "    </tr>\n",
              "    <tr>\n",
              "      <th>2</th>\n",
              "      <td>81</td>\n",
              "    </tr>\n",
              "  </tbody>\n",
              "</table>\n",
              "</div><br><label><b>dtype:</b> int64</label>"
            ]
          },
          "metadata": {},
          "execution_count": 34
        }
      ]
    },
    {
      "cell_type": "code",
      "source": [
        "df_2 = df_1[df_1[\"class\"] != -1]"
      ],
      "metadata": {
        "id": "9vwZRaO5ycsb"
      },
      "execution_count": 37,
      "outputs": []
    },
    {
      "cell_type": "code",
      "source": [
        "df_2['class'].value_counts()"
      ],
      "metadata": {
        "id": "YrsRJuFqy4dr",
        "outputId": "086fc34d-2e48-42bd-e8b2-fce167156055",
        "colab": {
          "base_uri": "https://localhost:8080/",
          "height": 272
        }
      },
      "execution_count": 38,
      "outputs": [
        {
          "output_type": "execute_result",
          "data": {
            "text/plain": [
              "class\n",
              "1    268\n",
              "0    181\n",
              "3    175\n",
              "4    101\n",
              "2     81\n",
              "Name: count, dtype: int64"
            ],
            "text/html": [
              "<div>\n",
              "<style scoped>\n",
              "    .dataframe tbody tr th:only-of-type {\n",
              "        vertical-align: middle;\n",
              "    }\n",
              "\n",
              "    .dataframe tbody tr th {\n",
              "        vertical-align: top;\n",
              "    }\n",
              "\n",
              "    .dataframe thead th {\n",
              "        text-align: right;\n",
              "    }\n",
              "</style>\n",
              "<table border=\"1\" class=\"dataframe\">\n",
              "  <thead>\n",
              "    <tr style=\"text-align: right;\">\n",
              "      <th></th>\n",
              "      <th>count</th>\n",
              "    </tr>\n",
              "    <tr>\n",
              "      <th>class</th>\n",
              "      <th></th>\n",
              "    </tr>\n",
              "  </thead>\n",
              "  <tbody>\n",
              "    <tr>\n",
              "      <th>1</th>\n",
              "      <td>268</td>\n",
              "    </tr>\n",
              "    <tr>\n",
              "      <th>0</th>\n",
              "      <td>181</td>\n",
              "    </tr>\n",
              "    <tr>\n",
              "      <th>3</th>\n",
              "      <td>175</td>\n",
              "    </tr>\n",
              "    <tr>\n",
              "      <th>4</th>\n",
              "      <td>101</td>\n",
              "    </tr>\n",
              "    <tr>\n",
              "      <th>2</th>\n",
              "      <td>81</td>\n",
              "    </tr>\n",
              "  </tbody>\n",
              "</table>\n",
              "</div><br><label><b>dtype:</b> int64</label>"
            ]
          },
          "metadata": {},
          "execution_count": 38
        }
      ]
    },
    {
      "cell_type": "code",
      "source": [
        "df_2.to_csv('jokes.csv', index=False, encoding='utf-8')"
      ],
      "metadata": {
        "id": "r45eZrcAKKbJ"
      },
      "execution_count": 39,
      "outputs": []
    }
  ]
}